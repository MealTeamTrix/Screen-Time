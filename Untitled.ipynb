{
 "cells": [
  {
   "cell_type": "markdown",
   "id": "65ef9066-1628-43fb-9eb7-b2e909427260",
   "metadata": {},
   "source": [
    "# Explorting Real-World Trends in Child Screen Time\n",
    "\n",
    "This dataset shows real-world trends in children's screen time usage."
   ]
  },
  {
   "cell_type": "code",
   "execution_count": 72,
   "id": "4e930ea0-2279-4247-bccc-0c175ddf19aa",
   "metadata": {},
   "outputs": [],
   "source": [
    "# Load in libraries\n",
    "import pandas as pd\n",
    "import numpy as np\n",
    "import matplotlib.pyplot as plt\n",
    "import seaborn as sns"
   ]
  },
  {
   "cell_type": "code",
   "execution_count": 73,
   "id": "e5c11ada-2652-47ac-947b-a6bb018c5fec",
   "metadata": {},
   "outputs": [
    {
     "data": {
      "text/html": [
       "<div>\n",
       "<style scoped>\n",
       "    .dataframe tbody tr th:only-of-type {\n",
       "        vertical-align: middle;\n",
       "    }\n",
       "\n",
       "    .dataframe tbody tr th {\n",
       "        vertical-align: top;\n",
       "    }\n",
       "\n",
       "    .dataframe thead th {\n",
       "        text-align: right;\n",
       "    }\n",
       "</style>\n",
       "<table border=\"1\" class=\"dataframe\">\n",
       "  <thead>\n",
       "    <tr style=\"text-align: right;\">\n",
       "      <th></th>\n",
       "      <th>Age</th>\n",
       "      <th>Gender</th>\n",
       "      <th>Screen Time Type</th>\n",
       "      <th>Day Type</th>\n",
       "      <th>Average Screen Time (hours)</th>\n",
       "      <th>Sample Size</th>\n",
       "    </tr>\n",
       "  </thead>\n",
       "  <tbody>\n",
       "    <tr>\n",
       "      <th>0</th>\n",
       "      <td>5</td>\n",
       "      <td>Male</td>\n",
       "      <td>Educational</td>\n",
       "      <td>Weekday</td>\n",
       "      <td>0.44</td>\n",
       "      <td>500</td>\n",
       "    </tr>\n",
       "    <tr>\n",
       "      <th>1</th>\n",
       "      <td>5</td>\n",
       "      <td>Male</td>\n",
       "      <td>Recreational</td>\n",
       "      <td>Weekday</td>\n",
       "      <td>1.11</td>\n",
       "      <td>500</td>\n",
       "    </tr>\n",
       "    <tr>\n",
       "      <th>2</th>\n",
       "      <td>5</td>\n",
       "      <td>Male</td>\n",
       "      <td>Total</td>\n",
       "      <td>Weekday</td>\n",
       "      <td>1.55</td>\n",
       "      <td>500</td>\n",
       "    </tr>\n",
       "    <tr>\n",
       "      <th>3</th>\n",
       "      <td>5</td>\n",
       "      <td>Male</td>\n",
       "      <td>Educational</td>\n",
       "      <td>Weekend</td>\n",
       "      <td>0.50</td>\n",
       "      <td>500</td>\n",
       "    </tr>\n",
       "    <tr>\n",
       "      <th>4</th>\n",
       "      <td>5</td>\n",
       "      <td>Male</td>\n",
       "      <td>Recreational</td>\n",
       "      <td>Weekend</td>\n",
       "      <td>1.44</td>\n",
       "      <td>500</td>\n",
       "    </tr>\n",
       "  </tbody>\n",
       "</table>\n",
       "</div>"
      ],
      "text/plain": [
       "   Age Gender Screen Time Type Day Type  Average Screen Time (hours)  \\\n",
       "0    5   Male      Educational  Weekday                         0.44   \n",
       "1    5   Male     Recreational  Weekday                         1.11   \n",
       "2    5   Male            Total  Weekday                         1.55   \n",
       "3    5   Male      Educational  Weekend                         0.50   \n",
       "4    5   Male     Recreational  Weekend                         1.44   \n",
       "\n",
       "   Sample Size  \n",
       "0          500  \n",
       "1          500  \n",
       "2          500  \n",
       "3          500  \n",
       "4          500  "
      ]
     },
     "execution_count": 73,
     "metadata": {},
     "output_type": "execute_result"
    }
   ],
   "source": [
    "# Read in the data\n",
    "df = pd.read_csv('data/screen_time.csv')\n",
    "\n",
    "# View the data\n",
    "df.head()"
   ]
  },
  {
   "cell_type": "markdown",
   "id": "33a90121-27ee-4f61-99e9-1d04fa8b39d5",
   "metadata": {},
   "source": [
    "### Begin Performing EDA"
   ]
  },
  {
   "cell_type": "code",
   "execution_count": 74,
   "id": "7a0f2de2-0938-4b89-a230-e234eb044c43",
   "metadata": {},
   "outputs": [],
   "source": [
    "# Change col names to be easier to work with\n",
    "df.columns = ['age', 'gender', 'type', 'day_type', 'average_time_hours', 'sample_size']\n",
    "\n",
    "# Drop sample size \n",
    "df = df.drop('sample_size', axis = 1)"
   ]
  },
  {
   "cell_type": "code",
   "execution_count": 75,
   "id": "9354506f-da16-4f16-a1fa-cb25dc98b174",
   "metadata": {},
   "outputs": [
    {
     "name": "stdout",
     "output_type": "stream",
     "text": [
      "\n",
      "The number of missing values is:\n",
      "age: 0\n",
      "gender: 0\n",
      "type: 0\n",
      "day_type: 0\n",
      "average_time_hours: 0\n"
     ]
    }
   ],
   "source": [
    "# Check for missing values\n",
    "print(\"\\nThe number of missing values is:\")\n",
    "for col, missing in df.isna().sum().items():\n",
    "    print(f\"{col}: {missing}\")"
   ]
  },
  {
   "cell_type": "code",
   "execution_count": 76,
   "id": "28334078-6ee3-4930-ab88-512b21268233",
   "metadata": {},
   "outputs": [
    {
     "name": "stdout",
     "output_type": "stream",
     "text": [
      "\n",
      "Summary Stats:\n",
      "\n"
     ]
    },
    {
     "data": {
      "text/html": [
       "<div>\n",
       "<style scoped>\n",
       "    .dataframe tbody tr th:only-of-type {\n",
       "        vertical-align: middle;\n",
       "    }\n",
       "\n",
       "    .dataframe tbody tr th {\n",
       "        vertical-align: top;\n",
       "    }\n",
       "\n",
       "    .dataframe thead th {\n",
       "        text-align: right;\n",
       "    }\n",
       "</style>\n",
       "<table border=\"1\" class=\"dataframe\">\n",
       "  <thead>\n",
       "    <tr style=\"text-align: right;\">\n",
       "      <th></th>\n",
       "      <th>age</th>\n",
       "      <th>average_time_hours</th>\n",
       "    </tr>\n",
       "  </thead>\n",
       "  <tbody>\n",
       "    <tr>\n",
       "      <th>count</th>\n",
       "      <td>198.000000</td>\n",
       "      <td>198.000000</td>\n",
       "    </tr>\n",
       "    <tr>\n",
       "      <th>mean</th>\n",
       "      <td>10.000000</td>\n",
       "      <td>2.993030</td>\n",
       "    </tr>\n",
       "    <tr>\n",
       "      <th>std</th>\n",
       "      <td>3.170294</td>\n",
       "      <td>1.922822</td>\n",
       "    </tr>\n",
       "    <tr>\n",
       "      <th>min</th>\n",
       "      <td>5.000000</td>\n",
       "      <td>0.440000</td>\n",
       "    </tr>\n",
       "    <tr>\n",
       "      <th>25%</th>\n",
       "      <td>7.000000</td>\n",
       "      <td>1.402500</td>\n",
       "    </tr>\n",
       "    <tr>\n",
       "      <th>50%</th>\n",
       "      <td>10.000000</td>\n",
       "      <td>2.490000</td>\n",
       "    </tr>\n",
       "    <tr>\n",
       "      <th>75%</th>\n",
       "      <td>13.000000</td>\n",
       "      <td>4.397500</td>\n",
       "    </tr>\n",
       "    <tr>\n",
       "      <th>max</th>\n",
       "      <td>15.000000</td>\n",
       "      <td>8.190000</td>\n",
       "    </tr>\n",
       "  </tbody>\n",
       "</table>\n",
       "</div>"
      ],
      "text/plain": [
       "              age  average_time_hours\n",
       "count  198.000000          198.000000\n",
       "mean    10.000000            2.993030\n",
       "std      3.170294            1.922822\n",
       "min      5.000000            0.440000\n",
       "25%      7.000000            1.402500\n",
       "50%     10.000000            2.490000\n",
       "75%     13.000000            4.397500\n",
       "max     15.000000            8.190000"
      ]
     },
     "execution_count": 76,
     "metadata": {},
     "output_type": "execute_result"
    }
   ],
   "source": [
    "# Get the summary stats\n",
    "print(\"\\nSummary Stats:\\n\")\n",
    "df.describe()"
   ]
  },
  {
   "cell_type": "code",
   "execution_count": 77,
   "id": "73a9cb71-1b68-4a14-a9eb-ec5934a193d6",
   "metadata": {},
   "outputs": [
    {
     "name": "stdout",
     "output_type": "stream",
     "text": [
      "\n",
      "Data Metadata:\n",
      "\n",
      "<class 'pandas.core.frame.DataFrame'>\n",
      "RangeIndex: 198 entries, 0 to 197\n",
      "Data columns (total 5 columns):\n",
      " #   Column              Non-Null Count  Dtype  \n",
      "---  ------              --------------  -----  \n",
      " 0   age                 198 non-null    int64  \n",
      " 1   gender              198 non-null    object \n",
      " 2   type                198 non-null    object \n",
      " 3   day_type            198 non-null    object \n",
      " 4   average_time_hours  198 non-null    float64\n",
      "dtypes: float64(1), int64(1), object(3)\n",
      "memory usage: 7.9+ KB\n"
     ]
    }
   ],
   "source": [
    "# View the metadata\n",
    "print(\"\\nData Metadata:\\n\")\n",
    "df.info()"
   ]
  },
  {
   "cell_type": "code",
   "execution_count": 79,
   "id": "af241d14-dc16-473d-a8a2-b4e99e4ca655",
   "metadata": {},
   "outputs": [
    {
     "data": {
      "text/plain": [
       "(array(['Male', 'Female', 'Other/Prefer not to say'], dtype=object),\n",
       " array(['Weekday', 'Weekend'], dtype=object),\n",
       " array(['Educational', 'Recreational', 'Total'], dtype=object))"
      ]
     },
     "execution_count": 79,
     "metadata": {},
     "output_type": "execute_result"
    }
   ],
   "source": [
    "# Identify Unique values\n",
    "df['gender'].unique(), df['day_type'].unique(), df['type'].unique()"
   ]
  },
  {
   "cell_type": "code",
   "execution_count": 80,
   "id": "a063eacd-9514-4077-a17d-e7380ffdbbbb",
   "metadata": {},
   "outputs": [
    {
     "data": {
      "image/png": "[encoded data removed]",
      "text/plain": [
       "<Figure size 640x480 with 1 Axes>"
      ]
     },
     "metadata": {},
     "output_type": "display_data"
    }
   ],
   "source": [
    "# View Screen Time by Age\n",
    "plt.bar(df['age'], df['average_time_hours'])\n",
    "plt.xlabel('Age')\n",
    "plt.ylabel('Average Screen Time (hours)')\n",
    "plt.title('Amount of Screen Time by Age')\n",
    "plt.show()"
   ]
  },
  {
   "cell_type": "code",
   "execution_count": 89,
   "id": "0ae7be5b-9c84-44cc-a889-cec77f72e59c",
   "metadata": {},
   "outputs": [
    {
     "data": {
      "text/plain": [
       "<Axes: xlabel='gender', ylabel='average_time_hours'>"
      ]
     },
     "execution_count": 89,
     "metadata": {},
     "output_type": "execute_result"
    },
    {
     "data": {
      "image/png": "[encoded data removed]",
      "text/plain": [
       "<Figure size 640x480 with 1 Axes>"
      ]
     },
     "metadata": {},
     "output_type": "display_data"
    }
   ],
   "source": [
    "# View Screen time by Gender\n",
    "sns.barplot(x =df['gender'], y=df['average_time_hours'])"
   ]
  },
  {
   "cell_type": "code",
   "execution_count": 95,
   "id": "5db46e8a-e7cb-458f-9dbe-11f9d0770072",
   "metadata": {},
   "outputs": [
    {
     "data": {
      "text/plain": [
       "<Axes: xlabel='type', ylabel='average_time_hours'>"
      ]
     },
     "execution_count": 95,
     "metadata": {},
     "output_type": "execute_result"
    },
    {
     "data": {
      "image/png": "[encoded data removed]",
      "text/plain": [
       "<Figure size 640x480 with 1 Axes>"
      ]
     },
     "metadata": {},
     "output_type": "display_data"
    }
   ],
   "source": [
    "# Create a boxplot to view type of content over number of hours\n",
    "sns.boxplot(x=df['type'],y=df['average_time_hours'])"
   ]
  }
 ],
 "metadata": {
  "kernelspec": {
   "display_name": "Python 3 (ipykernel)",
   "language": "python",
   "name": "python3"
  },
  "language_info": {
   "codemirror_mode": {
    "name": "ipython",
    "version": 3
   },
   "file_extension": ".py",
   "mimetype": "text/x-python",
   "name": "python",
   "nbconvert_exporter": "python",
   "pygments_lexer": "ipython3",
   "version": "3.10.12"
  }
 },
 "nbformat": 4,
 "nbformat_minor": 5
}
